{
 "cells": [
  {
   "cell_type": "markdown",
   "metadata": {},
   "source": [
    "# Document Similarity\n",
    "### Using FastText Word Embedding\n",
    "https://fasttext.cc/docs/en/aligned-vectors.html"
   ]
  },
  {
   "cell_type": "code",
   "execution_count": 2,
   "metadata": {},
   "outputs": [],
   "source": [
    "import warnings\n",
    "warnings.filterwarnings(\"ignore\")\n",
    "from gensim.models import KeyedVectors\n",
    "import numpy as np\n",
    "from sklearn.manifold import TSNE\n",
    "import matplotlib.pyplot as plt\n",
    "import pickle\n",
    "import operator\n",
    "\n",
    "# import natural language toolkit\n",
    "from gensim.parsing.preprocessing import preprocess_string, strip_tags, strip_punctuation\n",
    "from nltk.corpus   import stopwords\n",
    "from nltk.tokenize import word_tokenize\n",
    "#from gensim.\n",
    "\n",
    "import string"
   ]
  },
  {
   "cell_type": "code",
   "execution_count": 3,
   "metadata": {
    "ExecuteTime": {
     "end_time": "2019-07-01T10:47:33.827801Z",
     "start_time": "2019-07-01T10:47:33.794337Z"
    }
   },
   "outputs": [],
   "source": [
    "from modules.library.postgresql import PostgresQL\n",
    "# # connect to the postgresql database\n",
    "pg = PostgresQL() \n",
    "pg.connect(database=\"eurlex_environment_only\", user=\"postgres\", password=\"dbpass\")"
   ]
  },
  {
   "cell_type": "code",
   "execution_count": 4,
   "metadata": {},
   "outputs": [],
   "source": [
    "from modules.library.word_models import WordModels"
   ]
  },
  {
   "cell_type": "code",
   "execution_count": 5,
   "metadata": {},
   "outputs": [],
   "source": [
    "from modules.library.document_similarity import DocumentSimilarity"
   ]
  },
  {
   "cell_type": "code",
   "execution_count": 6,
   "metadata": {},
   "outputs": [],
   "source": [
    "from modules.library.document_models import DocumentModels"
   ]
  },
  {
   "cell_type": "code",
   "execution_count": 7,
   "metadata": {},
   "outputs": [],
   "source": [
    "rand_seed = 4"
   ]
  },
  {
   "cell_type": "code",
   "execution_count": 8,
   "metadata": {},
   "outputs": [],
   "source": [
    "# with open('objs.pkl', \"rb\") as f:\n",
    "#     e = pickle.load(f)"
   ]
  },
  {
   "cell_type": "code",
   "execution_count": 9,
   "metadata": {},
   "outputs": [],
   "source": [
    "# wv_en_align = e[0]\n",
    "# documents = e[1]\n",
    "# documents_stripped = e[2]\n",
    "# we = e[3]\n",
    "# docembeddings_transformed = e[4]\n",
    "# XX = e[5]\n",
    "# all_descriptors = e[6]\n",
    "# descriptors_embedding = e[7] \n",
    "# descriptors_embedding_transformed = e[8]\n",
    "# we_trained = e[9]\n",
    "# trained_docemb_transformed = e[10]\n",
    "# tr_desc_emb = e[11]\n",
    "# tr_desc_emb_transformed = e[12]"
   ]
  },
  {
   "cell_type": "markdown",
   "metadata": {},
   "source": [
    "Importing pre-trained FastText word embeddings of English words. We chose to use aligned word vectors, which will enable us to provide cross-lingual support."
   ]
  },
  {
   "cell_type": "code",
   "execution_count": 10,
   "metadata": {
    "ExecuteTime": {
     "end_time": "2019-07-01T10:46:21.380520Z",
     "start_time": "2019-07-01T10:36:55.595705Z"
    }
   },
   "outputs": [],
   "source": [
    "wiki_en_align = '../data/fasttext/wiki.en.align.vec'\n",
    "# wiki_en_model = WordModels()\n",
    "# wiki_en_model.load(wiki_en_align)\n",
    "wiki_en_model = KeyedVectors.load_word2vec_format(wiki_en_align)"
   ]
  },
  {
   "cell_type": "code",
   "execution_count": 11,
   "metadata": {
    "ExecuteTime": {
     "end_time": "2019-07-01T10:46:21.380520Z",
     "start_time": "2019-07-01T10:36:55.595705Z"
    }
   },
   "outputs": [
    {
     "name": "stdout",
     "output_type": "stream",
     "text": [
      "english words 2519370\n"
     ]
    }
   ],
   "source": [
    "print('english words {}'.format(len(list(wiki_en_model.vocab.keys()))))"
   ]
  },
  {
   "cell_type": "code",
   "execution_count": 12,
   "metadata": {},
   "outputs": [],
   "source": [
    "with open(\"wwe.pkl\", \"wb\") as f:\n",
    "    pickle.dump(wiki_en_model, f, protocol=-1)"
   ]
  },
  {
   "cell_type": "code",
   "execution_count": 13,
   "metadata": {},
   "outputs": [],
   "source": [
    "# with open(\"wwe.pkl\", \"rb\") as f:\n",
    "#     wiki_en_model = pickle.load(f)"
   ]
  },
  {
   "cell_type": "markdown",
   "metadata": {},
   "source": [
    "Importing another module trained on legal documents"
   ]
  },
  {
   "cell_type": "code",
   "execution_count": 14,
   "metadata": {},
   "outputs": [],
   "source": [
    "law_word_vectors = KeyedVectors.load_word2vec_format('../data/Law2Vec/Law2Vec.200d.txt', binary=False)"
   ]
  },
  {
   "cell_type": "markdown",
   "metadata": {},
   "source": [
    "## Processing Data"
   ]
  },
  {
   "cell_type": "markdown",
   "metadata": {},
   "source": [
    "Preparing list of stopwords (words that appear regularly in the vocabulary and are not so significant for a specific document)."
   ]
  },
  {
   "cell_type": "code",
   "execution_count": 15,
   "metadata": {
    "ExecuteTime": {
     "end_time": "2019-07-01T11:10:47.979567Z",
     "start_time": "2019-07-01T11:10:47.972449Z"
    }
   },
   "outputs": [],
   "source": [
    "# prepare stopword list\n",
    "stop_words = stopwords.words('english') + list(string.punctuation)"
   ]
  },
  {
   "cell_type": "markdown",
   "metadata": {},
   "source": [
    "Tokenize the text of the document - remove stopwords and punctuation and split it in words. We also count the occurance of words in the document and order them by number of occurances decreasingly."
   ]
  },
  {
   "cell_type": "code",
   "execution_count": 16,
   "metadata": {
    "ExecuteTime": {
     "end_time": "2019-07-01T11:10:50.801818Z",
     "start_time": "2019-07-01T11:10:50.788273Z"
    }
   },
   "outputs": [],
   "source": [
    "# %load -s tokenize document_embeddings.py\n",
    "def tokenize(text, stop_words):\n",
    "    \"\"\"Tokenizes and removes stopwords from the document\"\"\"\n",
    "\n",
    "    def strip_comments(s):\n",
    "        s = s.replace('\"', '')\n",
    "        s = s.replace(\"'\", '')\n",
    "        s = s.replace('“', '')\n",
    "        s = s.replace('”', '')\n",
    "        return s\n",
    "\n",
    "    CUSTOM_FILTERS = [lambda x: x.lower(), strip_punctuation]\n",
    "\n",
    "    stripped_text = strip_comments(text)\n",
    "    tokens = preprocess_string(stripped_text, CUSTOM_FILTERS)\n",
    "    filtered = [w for w in tokens if not w in stop_words]\n",
    "\n",
    "    #return filtered\n",
    "    # get the most frequent words in the document\n",
    "    count = { }\n",
    "    for word in filtered:\n",
    "        if word not in count:\n",
    "            count[word] = 0\n",
    "        count[word] += 1\n",
    "\n",
    "    word_sorted = sorted(count.items(), key=operator.itemgetter(1), reverse=True)\n",
    "    return word_sorted\n"
   ]
  },
  {
   "cell_type": "code",
   "execution_count": 17,
   "metadata": {
    "ExecuteTime": {
     "end_time": "2019-07-01T11:23:10.212334Z",
     "start_time": "2019-07-01T11:23:10.207079Z"
    }
   },
   "outputs": [],
   "source": [
    "# %load -s euclid_similarity document_embeddings.py\n",
    "def euclid_similarity(emb1, emb2):\n",
    "    \"\"\"Calculate the euclid similarity between two embeddings\"\"\"\n",
    "    return np.linalg.norm(emb1 - emb2)\n"
   ]
  },
  {
   "cell_type": "markdown",
   "metadata": {},
   "source": [
    "## Document embeddings\n",
    "\n",
    "In this section we write several document embeddings. They will be used later to find the optimal way to represent our data."
   ]
  },
  {
   "cell_type": "markdown",
   "metadata": {},
   "source": [
    "Save all documents of EUR-Lex database into a variable 'documents'."
   ]
  },
  {
   "cell_type": "code",
   "execution_count": 18,
   "metadata": {
    "ExecuteTime": {
     "end_time": "2019-07-01T11:31:33.885081Z",
     "start_time": "2019-07-01T11:30:46.659801Z"
    }
   },
   "outputs": [],
   "source": [
    "documents = pg.execute(\"\"\"\n",
    "    SELECT * FROM documents;\n",
    "\"\"\")"
   ]
  },
  {
   "cell_type": "code",
   "execution_count": 19,
   "metadata": {},
   "outputs": [
    {
     "name": "stdout",
     "output_type": "stream",
     "text": [
      "123157\n"
     ]
    }
   ],
   "source": [
    "N = len(documents)\n",
    "print(N)"
   ]
  },
  {
   "cell_type": "code",
   "execution_count": 20,
   "metadata": {},
   "outputs": [],
   "source": [
    "# %load -s strip document_embeddings.py\n",
    "def strip(s, stopwords):\n",
    "    s = s.replace('\"', '')\n",
    "    s = s.replace(\"'\", '')\n",
    "    s = s.replace('“', '')\n",
    "    s = s.replace('”', '')\n",
    "    s = s.replace('\\n', ' ')\n",
    "    for w in stopwords:\n",
    "        s = s.replace(' '+w+' ', '')\n",
    "    return strip_punctuation(s)\n"
   ]
  },
  {
   "cell_type": "code",
   "execution_count": 21,
   "metadata": {},
   "outputs": [],
   "source": [
    "#documents_stripped = [strip(d['document_text'], stop_words) for d in documents]"
   ]
  },
  {
   "cell_type": "code",
   "execution_count": 22,
   "metadata": {},
   "outputs": [
    {
     "data": {
      "text/plain": [
       "'european'"
      ]
     },
     "execution_count": 22,
     "metadata": {},
     "output_type": "execute_result"
    }
   ],
   "source": [
    "list_of_tokens = tokenize(documents[0]['document_text'], stop_words)\n",
    "token, nr_token = list_of_tokens[0]\n",
    "token"
   ]
  },
  {
   "cell_type": "code",
   "execution_count": 23,
   "metadata": {},
   "outputs": [],
   "source": [
    "documents_stripped = [\" \".join([token for token, nr_token in tokenize(doc['document_text'], stop_words)]) for doc in documents]"
   ]
  },
  {
   "cell_type": "code",
   "execution_count": 24,
   "metadata": {},
   "outputs": [
    {
     "data": {
      "text/plain": [
       "'european treaty union establishing declaration article 175 0078 pursuing objective use avis juridique important 12001c dcl 09treaty nice amending treaties communities certa related acts declarations adopted conference communityofficial journal 080 10 03 2001 p 9 communitythe high contracting parties determined see play leading role promoting environmental protection international efforts global level full made possibilities offered view including incentives instruments market oriented intended promote sustainable development top'"
      ]
     },
     "execution_count": 24,
     "metadata": {},
     "output_type": "execute_result"
    }
   ],
   "source": [
    "documents_stripped[0]"
   ]
  },
  {
   "cell_type": "code",
   "execution_count": 25,
   "metadata": {},
   "outputs": [],
   "source": [
    "#documents_stripped[0]"
   ]
  },
  {
   "cell_type": "markdown",
   "metadata": {},
   "source": [
    "### Document embedding via word embeddings\n",
    "\n",
    "We will first implement a simple version of document embedding that relies on the fact, that we already have a basis of word embeddings. Document embedding will be defined as an average of word embeddings of words that appear in 'document_text'."
   ]
  },
  {
   "cell_type": "code",
   "execution_count": 26,
   "metadata": {
    "ExecuteTime": {
     "end_time": "2019-07-01T11:32:54.388637Z",
     "start_time": "2019-07-01T11:32:54.376146Z"
    }
   },
   "outputs": [],
   "source": [
    "# %load -s simple_docemb document_embeddings.py\n",
    "def simple_docemb(text, stopwords, wv):\n",
    "    \"\"\"Creates a document embedding as the average of corresponding token embeddings\"\"\"\n",
    "    embedding = np.zeros(wv.vector_size, dtype=np.float32)\n",
    "\n",
    "    if text is None:\n",
    "        return embedding\n",
    "\n",
    "    word_sorted = tokenize(text, stopwords)\n",
    "    norm = 0\n",
    "    for token, a in word_sorted:\n",
    "        # sum all tokens embeddings of the vector\n",
    "        if token in wv.vocab.keys():\n",
    "            embedding += wv[token]\n",
    "            norm += 1\n",
    "    # return the normalized embedding; if not zero\n",
    "    return embedding if norm == 0 else embedding / norm\n"
   ]
  },
  {
   "cell_type": "markdown",
   "metadata": {},
   "source": [
    "We embed documents in our database. As shown before the total number of documents in the database is more than 100.000, so we limit ourselves and embed only 15.000."
   ]
  },
  {
   "cell_type": "code",
   "execution_count": 27,
   "metadata": {},
   "outputs": [],
   "source": [
    "#token in wiki_en_model.vocab.keys()"
   ]
  },
  {
   "cell_type": "code",
   "execution_count": 28,
   "metadata": {
    "ExecuteTime": {
     "end_time": "2019-07-01T11:32:53.519647Z",
     "start_time": "2019-07-01T11:32:53.510771Z"
    }
   },
   "outputs": [],
   "source": [
    "# %load -s dataset_embedding document_embeddings.py\n",
    "def dataset_embedding(dataset, stopwords, wv, document_embedding):\n",
    "    \"\"\"Creates the dataset embeddings given a document_embedding function\"\"\"\n",
    "\n",
    "    embeddings = np.zeros((len(dataset), wv.vector_size), dtype=np.float32)\n",
    "    for id, document in enumerate(dataset):\n",
    "        text = document['document_text']\n",
    "        embeddings[id,:] = document_embedding(text, stopwords, wv)\n",
    "        if id % 10000 == 0:\n",
    "            print('Processed document number = {}'.format(id))\n",
    "    return embeddings\n"
   ]
  },
  {
   "cell_type": "code",
   "execution_count": 208,
   "metadata": {
    "ExecuteTime": {
     "end_time": "2019-07-01T12:28:11.781918Z",
     "start_time": "2019-07-01T12:23:22.175715Z"
    }
   },
   "outputs": [
    {
     "name": "stdout",
     "output_type": "stream",
     "text": [
      "Processed document number = 0\n",
      "Processed document number = 10000\n"
     ]
    }
   ],
   "source": [
    "limit = 15000\n",
    "we = dataset_embedding(documents[:limit], stop_words, wiki_en_model, simple_docemb)"
   ]
  },
  {
   "cell_type": "markdown",
   "metadata": {},
   "source": [
    "We filter through them and pick only the ones with non-zero embeddings (the ones with 'document_text' differet then 'None')."
   ]
  },
  {
   "cell_type": "code",
   "execution_count": 30,
   "metadata": {
    "ExecuteTime": {
     "end_time": "2019-07-01T12:31:23.516640Z",
     "start_time": "2019-07-01T12:31:23.321479Z"
    }
   },
   "outputs": [
    {
     "data": {
      "text/plain": [
       "15000"
      ]
     },
     "execution_count": 30,
     "metadata": {},
     "output_type": "execute_result"
    }
   ],
   "source": [
    "non_null = [x for x in we if np.linalg.norm(x) != 0]\n",
    "non_null_id = [i for i in range(len(we)) if np.linalg.norm(we[i]) != 0]\n",
    "len(non_null)"
   ]
  },
  {
   "cell_type": "markdown",
   "metadata": {},
   "source": [
    "In order to plot the embeddings we need to reduce the dimension to 2 (or 3). We use the TSNE method and plot the embeddings."
   ]
  },
  {
   "cell_type": "code",
   "execution_count": 31,
   "metadata": {
    "ExecuteTime": {
     "end_time": "2019-07-01T12:34:27.495230Z",
     "start_time": "2019-07-01T12:33:13.859005Z"
    }
   },
   "outputs": [],
   "source": [
    "docembeddings_transformed = TSNE(n_components=2, random_state=rand_seed).fit_transform(non_null)"
   ]
  },
  {
   "cell_type": "code",
   "execution_count": 32,
   "metadata": {},
   "outputs": [
    {
     "data": {
      "text/plain": [
       "numpy.ndarray"
      ]
     },
     "execution_count": 32,
     "metadata": {},
     "output_type": "execute_result"
    }
   ],
   "source": [
    "type(docembeddings_transformed)"
   ]
  },
  {
   "cell_type": "code",
   "execution_count": 33,
   "metadata": {
    "ExecuteTime": {
     "end_time": "2019-07-01T12:35:42.267677Z",
     "start_time": "2019-07-01T12:35:42.260989Z"
    }
   },
   "outputs": [
    {
     "data": {
      "text/plain": [
       "(4000, 2)"
      ]
     },
     "execution_count": 33,
     "metadata": {},
     "output_type": "execute_result"
    }
   ],
   "source": [
    "XX = docembeddings_transformed[:4000, :]\n",
    "XX.shape"
   ]
  },
  {
   "cell_type": "code",
   "execution_count": 189,
   "metadata": {
    "ExecuteTime": {
     "end_time": "2019-07-01T12:35:43.174363Z",
     "start_time": "2019-07-01T12:35:42.949671Z"
    }
   },
   "outputs": [
    {
     "data": {
      "image/png": "[encoded data removed]",
      "text/plain": [
       "<Figure size 640x640 with 1 Axes>"
      ]
     },
     "metadata": {},
     "output_type": "display_data"
    }
   ],
   "source": [
    "# get the (x, y) coordinates\n",
    "x, y = docembeddings_transformed.transpose()[0], docembeddings_transformed.transpose()[1]\n",
    "# draw the points into the landscape\n",
    "fig, ax = plt.subplots(figsize=(4, 4), dpi=160, facecolor='w')\n",
    "ax.scatter(x,  y,  2, marker='x', c='b')\n",
    "# show the image\n",
    "plt.axis('off')\n",
    "plt.show()"
   ]
  },
  {
   "cell_type": "markdown",
   "metadata": {},
   "source": [
    "### Document embedding via document descriptors\n",
    "\n",
    "We can consider document descriptors to be some kind of summary of the document. We will use them to define a document embedding as the average of word embeddings of words that appear in document descriptors.\n",
    "\n",
    "Let's first see how to access descriptors of the document with CELEX number 22015P0513(01)."
   ]
  },
  {
   "cell_type": "code",
   "execution_count": 35,
   "metadata": {},
   "outputs": [],
   "source": [
    "descriptors = pg.execute(\"\"\"\n",
    "    SELECT * FROM document_descriptors WHERE document_celex_num='22015P0513(01)';\n",
    "\"\"\")"
   ]
  },
  {
   "cell_type": "code",
   "execution_count": 36,
   "metadata": {},
   "outputs": [
    {
     "name": "stdout",
     "output_type": "stream",
     "text": [
      "[{'document_celex_num': '22015P0513(01)', 'descriptor_name': 'Africa'}, {'document_celex_num': '22015P0513(01)', 'descriptor_name': 'deforestation'}, {'document_celex_num': '22015P0513(01)', 'descriptor_name': 'Democratic Republic of the Congo'}, {'document_celex_num': '22015P0513(01)', 'descriptor_name': 'disease prevention'}, {'document_celex_num': '22015P0513(01)', 'descriptor_name': 'economic cooperation'}, {'document_celex_num': '22015P0513(01)', 'descriptor_name': 'international cooperation'}, {'document_celex_num': '22015P0513(01)', 'descriptor_name': 'nature reserve'}]\n"
     ]
    }
   ],
   "source": [
    "print(descriptors)\n",
    "#print(descriptors[0]['descriptor_name'])"
   ]
  },
  {
   "cell_type": "markdown",
   "metadata": {},
   "source": [
    "We gather them in a dictionary 'all_descriptors', where keys are CELEX numbers of documents and values are lists of their descriptors."
   ]
  },
  {
   "cell_type": "code",
   "execution_count": 37,
   "metadata": {},
   "outputs": [],
   "source": [
    "# %load -s get_descriptors document_embeddings.py\n",
    "def get_descriptors(indices, documents=documents):\n",
    "    \"\"\"Returns a dictionary of descriptors for specified documents\"\"\"\n",
    "\n",
    "    # The function returns dictionary 'descriptors' where keys are CELEX numbers of documents and values are descriptors\n",
    "    # that correspond to appropriate document\n",
    "    descriptors = {}\n",
    "\n",
    "    for i in indices:\n",
    "        celex = documents[i]['document_celex_num']\n",
    "        doc_descriptors = pg.execute(\"\"\"\n",
    "            SELECT * FROM document_descriptors WHERE document_celex_num='{}';\n",
    "            \"\"\".format(celex))\n",
    "        for descriptor_instance in doc_descriptors:\n",
    "            if celex not in descriptors:\n",
    "                descriptors[celex] = [descriptor_instance['descriptor_name']]\n",
    "            else:\n",
    "                descriptors[celex].append(descriptor_instance['descriptor_name'])\n",
    "    return descriptors\n"
   ]
  },
  {
   "cell_type": "code",
   "execution_count": 38,
   "metadata": {},
   "outputs": [],
   "source": [
    "all_descriptors = get_descriptors([i for i in range(N)])"
   ]
  },
  {
   "cell_type": "markdown",
   "metadata": {},
   "source": [
    "We define new document embedding, run it on all documents and save it in variable 'descriptor_embedding'. Further, we reduce the dimension of the embedding and plot it."
   ]
  },
  {
   "cell_type": "code",
   "execution_count": 39,
   "metadata": {},
   "outputs": [],
   "source": [
    "# %load -s descemb document_embeddings.py\n",
    "def descemb(documents, descriptors=all_descriptors, wv=wiki_en_model):\n",
    "    \"\"\"Given a dictionary of documents with their descriptors, returns document embeddings based on the descriptors.\"\"\"\n",
    "\n",
    "    embedding = np.zeros((len(documents), wv.vector_size), dtype=np.float32)\n",
    "    #go through documents\n",
    "    for id, doc in enumerate(documents):\n",
    "        celex = doc['document_celex_num']\n",
    "        doc_descriptors = descriptors[celex]\n",
    "        doc_desctext = \" \".join(doc_descriptors)\n",
    "        embedding[id, :] = simple_docemb(doc_desctext, \" \", wv)\n",
    "    return embedding\n"
   ]
  },
  {
   "cell_type": "code",
   "execution_count": 40,
   "metadata": {},
   "outputs": [],
   "source": [
    "descriptors_embedding = descemb(documents)\n",
    "descriptors_embedding_transformed = TSNE(n_components=2, random_state=rand_seed).fit_transform(descriptors_embedding[:4000,:])"
   ]
  },
  {
   "cell_type": "code",
   "execution_count": 41,
   "metadata": {},
   "outputs": [
    {
     "data": {
      "image/png": "[encoded data removed]",
      "text/plain": [
       "<Figure size 640x640 with 1 Axes>"
      ]
     },
     "metadata": {},
     "output_type": "display_data"
    }
   ],
   "source": [
    "x, y = descriptors_embedding_transformed.transpose()[0], descriptors_embedding_transformed.transpose()[1]\n",
    "fig, ax = plt.subplots(figsize=(4, 4), dpi=160, facecolor='w')\n",
    "ax.scatter(x,  y,  2, marker='x', c='b')\n",
    "plt.axis('off')\n",
    "plt.show()"
   ]
  },
  {
   "cell_type": "markdown",
   "metadata": {},
   "source": [
    "### Combined document embedding\n",
    "\n",
    "We define a new document embedding as a linear combination of already defined ones. After reducing the dimension, we plot it."
   ]
  },
  {
   "cell_type": "code",
   "execution_count": 42,
   "metadata": {},
   "outputs": [],
   "source": [
    "# %load -s combemb document_embeddings.py\n",
    "def combemb(document_embeddings, descriptor_embeddings, alpha):\n",
    "    \"\"\"Combines the two embeddings as a linear combination\"\"\"\n",
    "    return alpha*document_embeddings + (1-alpha)*descriptor_embeddings\n"
   ]
  },
  {
   "cell_type": "code",
   "execution_count": 43,
   "metadata": {},
   "outputs": [
    {
     "name": "stdout",
     "output_type": "stream",
     "text": [
      "<class 'numpy.ndarray'>\n"
     ]
    }
   ],
   "source": [
    "shortened = non_null[:4000]\n",
    "print(type(shortened[0]))\n",
    "#combined = combined_embedding(non_null[:4000, :], descriptors_embedding[:4000, :], 0.5)\n",
    "#combined_transformed = TSNE(n_components=2, random_state=4).fit_transform(combined)"
   ]
  },
  {
   "cell_type": "markdown",
   "metadata": {},
   "source": [
    "### Similarity of documents\n",
    "\n",
    "In this section we will pick a specific document and find others that are most similar to it. We will use methotds we already used for word analysis and more.\n",
    "\n",
    "We start by picking a document. We'll try to find similar ones."
   ]
  },
  {
   "cell_type": "code",
   "execution_count": 164,
   "metadata": {},
   "outputs": [
    {
     "data": {
      "text/plain": [
       "{'document_id': 6,\n",
       " 'document_celex_num': '21973D0305(01)',\n",
       " 'document_title': 'Decision No 4/72 of the Association Council on the definition of the concept of originating products from Turkey for implementation of Chapter I of Annex No 6 of the Additional Protocol to the Ankara Agreement',\n",
       " 'document_author': 'EC–Turkey Association Council',\n",
       " 'document_form': 'Decision',\n",
       " 'document_date': datetime.date(1972, 12, 29),\n",
       " 'document_text': 'Avis juridique important|21973D0305(01)Decision No 4/72 of the Association Council on the definition of the concept of originating products from Turkey for implementation of Chapter I of Annex No 6 of the Additional Protocol to the Ankara AgreementOfficial Journal L 059 , 05/03/1973 P. 0083 - 0084 Finnish special edition: Chapter 2 Volume 2 P. 0004Swedish special edition: Chapter 2 Volume 2 P. 0004Spanish special edition: Chapter 02 Volume 2 P. 0013Portuguese special edition Chapter 02 Volume 2 P. 0013DECISION No 4/72 OF THE ASSOCIATION COUNCIL on the definition of the concept of originating products from Turkey for implementation of Chapter I of Annex No 6 of the Additional Protocol to the Ankara AgreementTHE ASSOCIATION COUNCIL, Having regard to the Agreement establishing an Association between the European Economic Community and Turkey; Having regard to the Additional Protocol referred to in Article 1 (1) of the Provisional Protocol annexed to that Agreement, and in particular Article 16 of Annex 6; Whereas in view of the provisions of Articles 31, 32 and 35 of the Additional Protocol, agricultural products and products subject to special rules on importation into the Community as a result of the implementation of the common agricultural policy can only benefit from the preferential treatment laid down in Annex No 6 if they satisfy the conditions set out in Articles 2 and 3 of that Protocol; Whereas, with the exception of a few products that have to be wholly obtained in Turkey, the products referred to in the preceding recital may benefit from the preferential treatment only if they also originate in Turkey; Whereas in order to promote the marketing of Turkish agricultural products, products obtained by working or processing imported agricultural products should be excluded from the concept of products originating in Turkey; whereas, on the other hand, to avoid hampering the processing industries it should be laid down that the accessory use of other imported products in the working or processing of native products, does not prevent the goods obtained from being considered as originating; HAS DECIDED AS FOLLOWS : Article 1 For the purposes of implementing Chapter I of Annex No 6 of the Additional Protocol, the following shall be considered as originating products from Turkey: (a) vegetable products harvested in Turkey, (b) live animals born and raised in turkey, (c) products from live animals raised in Turkey, (d) products obtained by hunting or fishing conducted in Turkey, (e) marine products taken from the sea by Turkish vessels, (f) goods obtained in Turkey by working or processing the products specified in subparagraphs (a) to (e), even if other products were incorporated on an accessory basis in their manufacture, whatever the origin of these products. Article 2 The explanatory notes form an integral part of this Decision. Done at Brussels, 29 December 1972. For the Association CouncilThe President E. M. J. A. SASSENEXPLANATORY NOTES Note 1 The term in Turkey shall also cover territorial waters and vessels operating on the high seas, including factory ships, on which the fish caught is worked or processed, provided that they satisfy all the conditions set out in Explanatory Note 4. Note 2 In order to determinate whether goods originate in Turkey, it shall not be necessary to establish whether the power and fuel, plant and equipment and machines and tools used to obtain such goods originate in third countries or not. Note 3 In determining the origin of agricultural products, account shall not be taken of any packaging. Note 4 The term Turkish vessels shall apply only to vessels: - which are registered or recorded in Turkey; - which sail under the Turkish flag; - which are at least 50% owned by nationals of Turkey or by a compagny with its head office in Turkey, of which the manager or managers, chairman of the board of directors or of the supervisory board and the majority of the members of such boards are nationals of Turkey and of which, in addtion, in the case of partnerships or limited companies, at least half the capital belongs to Turkey, or to public bodies or nationals of Turkey; - of which the captain and officers are all nationals of Turkey; - of which at least 75% of the crew are nationals of turkey. Note 5 Products in a quantity not exceeding 10% of that of the products referred to in subparagraphs (a) to (e) of Article 1 of the Decision shall be considered as being incorporated on an accessory basis in their manufacture. Top'}"
      ]
     },
     "execution_count": 164,
     "metadata": {},
     "output_type": "execute_result"
    }
   ],
   "source": [
    "doc_index = 4\n",
    "doc_embedded = we[doc_index]\n",
    "documents[doc_index]"
   ]
  },
  {
   "cell_type": "code",
   "execution_count": 45,
   "metadata": {},
   "outputs": [],
   "source": [
    "# %load -s kNN document_embeddings.py\n",
    "def kNN(embedding, k, de, similarity):\n",
    "    \"\"\"Get the k nearest neighbors of a particular document\"\"\"\n",
    "\n",
    "    # calculate the similarities and revert it\n",
    "    sims = [similarity(embedding, d) for d in de]\n",
    "\n",
    "    # sort and get the corresponding indices\n",
    "    indices = []\n",
    "    for c, index in enumerate(np.argsort(sims)):\n",
    "        if c == k:\n",
    "            break\n",
    "        indices.append(index)\n",
    "\n",
    "    # return indices of the neighbors\n",
    "    return indices\n"
   ]
  },
  {
   "cell_type": "markdown",
   "metadata": {},
   "source": [
    "We find $k$ documents whose document embeddings are closest to the chosen document. We save their document embeddings in 'doc_neighbors', their distances form chosen document's document embedding in 'doc_distances' and their indices in 'indices'."
   ]
  },
  {
   "cell_type": "code",
   "execution_count": 219,
   "metadata": {},
   "outputs": [],
   "source": [
    "k = 20\n",
    "indices = kNN(doc_embedded, k, we, similarity=euclid_similarity)"
   ]
  },
  {
   "cell_type": "code",
   "execution_count": 166,
   "metadata": {},
   "outputs": [
    {
     "name": "stdout",
     "output_type": "stream",
     "text": [
      "[4, 10675, 12221, 8484, 3588, 12782, 908, 3280, 105, 3276, 10305, 3968, 3260, 9072, 217, 8991, 8439, 10572, 13911, 413]\n"
     ]
    }
   ],
   "source": [
    "print(indices)"
   ]
  },
  {
   "cell_type": "code",
   "execution_count": 167,
   "metadata": {},
   "outputs": [
    {
     "name": "stdout",
     "output_type": "stream",
     "text": [
      "Decision No 4/72 of the Association Council on the definition of the concept of originating products from Turkey for implementation of Chapter I of Annex No 6 of the Additional Protocol to the Ankara Agreement\n",
      " \n",
      "Council Regulation (EEC) No 1987/93 of 19 July 1993 amending Regulation (EEC) No 1784/77 concerning the certification of hops\n",
      " \n",
      "95/486/EC: Commission Decision of 30 November 1994 concerning aid and compulsory contributions to promote market outlets for poultry and rabbit farming products in Belgium (Only the French and Dutch texts are authentic)\n",
      " \n",
      "Commission Regulation (EEC) No 2602/90 of 7 September 1990 laying down detailed rules concerning citrus fruit producers organizations\n",
      " \n",
      "75/95/EEC: Commission Decision of 20 December 1974 relating to proceedings under Article 85 of the EEC Treaty (IV/26.872 - SHV/Chevron) (Only the Dutch and French texts are authentic)\n",
      " \n"
     ]
    }
   ],
   "source": [
    "for i in indices[:5]:\n",
    "    d = documents[i]\n",
    "    print(d['document_title'])\n",
    "    print(' ')"
   ]
  },
  {
   "cell_type": "code",
   "execution_count": 49,
   "metadata": {},
   "outputs": [],
   "source": [
    "#celex_num = documents[indices[0]]['document_celex_num']\n",
    "#print(\"CELEX number of chosen document: {}\".format(celex_num))\n",
    "#neighbors_celex_nums = [documents[i]['document_celex_num'] for i in indices]\n",
    "#neighbours_documents = []"
   ]
  },
  {
   "cell_type": "code",
   "execution_count": 50,
   "metadata": {},
   "outputs": [],
   "source": [
    "#neighbors_descriptors = get_descriptors(indices)\n",
    "#print(neighbors_descriptors)"
   ]
  },
  {
   "cell_type": "code",
   "execution_count": 51,
   "metadata": {},
   "outputs": [],
   "source": [
    "#neighbors_descriptors_embedding = descriptor_embeddings()"
   ]
  },
  {
   "cell_type": "markdown",
   "metadata": {},
   "source": [
    "Let's embedd the database with descriptor embedding. On the plot shown below we see the embeddings are close, but not as close as they were when embedded with simple document embedding."
   ]
  },
  {
   "cell_type": "code",
   "execution_count": 52,
   "metadata": {},
   "outputs": [],
   "source": [
    "def plot_neighbors(emb, indices):\n",
    "    fig, ax = plt.subplots(figsize=(4, 4), dpi=160, facecolor='w')\n",
    "    \n",
    "    x, y = emb.transpose()[0], emb.transpose()[1]\n",
    "    ax.scatter(x, y, 2, marker='x', c='b')\n",
    "    \n",
    "    temp = emb[indices,:]\n",
    "    x, y = temp.transpose()[0], temp.transpose()[1]\n",
    "    ax.scatter(x, y, 10, marker='o', c='r')\n",
    "\n",
    "    plt.axis('off')\n",
    "    plt.show()\n",
    "    return None"
   ]
  },
  {
   "cell_type": "code",
   "execution_count": 223,
   "metadata": {},
   "outputs": [
    {
     "data": {
      "image/png": "[encoded data removed]",
      "text/plain": [
       "<Figure size 640x640 with 1 Axes>"
      ]
     },
     "metadata": {},
     "output_type": "display_data"
    }
   ],
   "source": [
    "plot_neighbors(docembeddings_transformed, indices[:10])"
   ]
  },
  {
   "cell_type": "code",
   "execution_count": 221,
   "metadata": {},
   "outputs": [],
   "source": [
    "# plot_neighbors(descriptors_embedding_transformed, indices)"
   ]
  },
  {
   "cell_type": "code",
   "execution_count": 54,
   "metadata": {},
   "outputs": [],
   "source": [
    "focus_desc_embedding = descriptors_embedding_transformed[indices[0]]\n",
    "indices2 = kNN(focus_desc_embedding, k, de=descriptors_embedding_transformed, similarity=euclid_similarity)"
   ]
  },
  {
   "cell_type": "code",
   "execution_count": 55,
   "metadata": {},
   "outputs": [],
   "source": [
    "# plot_neighbors(descriptors_embedding_transformed, indices2)"
   ]
  },
  {
   "cell_type": "code",
   "execution_count": 56,
   "metadata": {},
   "outputs": [
    {
     "name": "stdout",
     "output_type": "stream",
     "text": [
      "Title of neighboring document with id 168: Agreement in the form of an Exchange of Letters concerning the provisional application of the Protocol defining, for the period 18 January 1990 to 17 January 1993, the fishing opportunities and the financial contribution provided for by the Agreement between the European Economic Community and the Republic of Seychelles on fishing off Seychelles\n",
      " \n",
      "Title of neighboring document with id 169: Protocol defining for the period 18 January 1990 to 17 January 1993 the fishing opportunities and the financial contribution provided for by the Agreement between the European Economic Community and the Republic of Seychelles On fishing off Seychelles\n",
      " \n",
      "Title of neighboring document with id 229: Agreement in the form of an exchange of letters concerning the provisional application of the Protocol defining, for the period 18 January 1993 to 17 January 1996, the fishing opportunities and the financial contribution provided for by the Agreement between the European Community and the Republic of Seychelles on fishing off Seychelles\n",
      " \n",
      "Title of neighboring document with id 17: Protocol between the European Economic Community and the Government of the Republic of Senegal\n",
      " \n",
      "Title of neighboring document with id 211: Protocol establishing, for the period from 1 January 1992 to 31 December 1993, the fishing rights and financial compensation provided for in the Agreement between the European Economic Community and the Government of the Republic of Guinea on fishing off the Guinean coast \n",
      " \n"
     ]
    }
   ],
   "source": [
    "for i in indices2[:5]:\n",
    "    print('Title of neighboring document with id {}: {}'.format(i, documents[i]['document_title']))\n",
    "    print(' ')"
   ]
  },
  {
   "cell_type": "code",
   "execution_count": 57,
   "metadata": {},
   "outputs": [
    {
     "name": "stdout",
     "output_type": "stream",
     "text": [
      "Processed document number = 0\n",
      "Processed document number = 10000\n"
     ]
    }
   ],
   "source": [
    "limit = 15000\n",
    "law_doc_vectors = dataset_embedding(documents[:limit], stop_words, law_word_vectors, simple_docemb)"
   ]
  },
  {
   "cell_type": "code",
   "execution_count": 58,
   "metadata": {},
   "outputs": [],
   "source": [
    "law_doc_vectors_transformed = TSNE(n_components=2, random_state=rand_seed).fit_transform(law_doc_vectors)"
   ]
  },
  {
   "cell_type": "code",
   "execution_count": 59,
   "metadata": {},
   "outputs": [],
   "source": [
    "k = 10\n",
    "law_focus_docemb = law_doc_vectors_transformed[doc_index]\n",
    "law_indices = kNN(law_focus_docemb, k, law_doc_vectors_transformed,\n",
    "                                                       similarity=euclid_similarity)"
   ]
  },
  {
   "cell_type": "code",
   "execution_count": 60,
   "metadata": {},
   "outputs": [
    {
     "name": "stdout",
     "output_type": "stream",
     "text": [
      "Agreement in the form of an Exchange of Letters concerning the provisional application of the Protocol defining, for the period 18 January 1990 to 17 January 1993, the fishing opportunities and the financial contribution provided for by the Agreement between the European Economic Community and the Republic of Seychelles on fishing off Seychelles\n",
      " \n",
      "Agreement in the form of an Exchange of Letters concerning the provisional application of the Protocol defining, for the period from 18 January to 17 January 1999, the fishing oppportunities and financial contribution provided for by the Agreement between the European Economic Community and the Republic of Seychelles on fishing off Seychelles\n",
      " \n",
      "Agreement in the form of an Exchange of Letters concerning the provisional application of the Protocol defining, for the period from 18 January 2002 to 17 January 2005, the fishing possibilities and the financial contribution provided for in the Agreement between the European Economic Community and the Republic of Seychelles on fishing off Seychelles\n",
      " \n",
      "Agreement in the form of an Exchange of Letters concerning the provisional application of the Protocol, defining, for the period 18 January 1999 to 17 January 2002, the fishing opportunities and the financial contribution provided for by the Agreement between the European Economic Community and the Republic of Seychelles on fishing off Seychelles\n",
      " \n",
      "Agreement in the form of an Exchange of Letters concerning the provisional application of the Protocol establishing, for the period 1 July 1994 to 30 June 1997, the fishing rights and financial compensation provided for in the Agreement between the European Economic Community and the Government of the Republic of Equatorial Guinea on fishing off the coast of Equatorial Guinea\n",
      " \n",
      "Agreement in the form of an Exchange of Letters on the provisional application of the Protocol establishing, for the period from 3 May 1990 to 2 May 1992, the fishing opportunities and financial compensation provided for in the Agreement between the European Economic Community and the Government of the peoples Republic of Angola on fishing off Angola\n",
      " \n",
      "Agreement in the form of an Exchange of Letters concerning the provisional application of the Protocol establishing the fishing possibilities and financial compensation provided for in the Agreement between the European Economic Community and the Government of the Republic of Senegal on fishing off the coast of Senegal, for the period from 2 October 1994 to 1 October 1996\n",
      " \n",
      "Agreement in the form of an exchange of letters on the provisional application of the Protocol defining, for the period from 2 October 1992 to 1 October 1994 the fishing rights and financial compensation provided for in the Agreement between the Government of the Republic of Senegal and the European Community on Fishing off the coast of Senegal \n",
      " \n",
      "Agreement in the form of an Exchange of Letters on the provisional application of the Protocol defining, for the period from 3 May 1996 to 2 May 1999, the fishing opportunities and financial compensation provided for in the agreement between the European Economic Community and the Government of the Peoples Republic of Angola on fishing off Angola\n",
      " \n",
      "Agreement in the form of an exchange of letters on the provisional application of the Protocol defining, for the period from 3 May 1992 to 2 May 1994, the fishing opportunities and financial compensation provided for in the Agreement between the European Economic Community and the Government of the People s Republic of Angola on fishing off Angola \n",
      " \n"
     ]
    }
   ],
   "source": [
    "for i in law_indices:\n",
    "    print(documents[i]['document_title'])\n",
    "    print(' ')"
   ]
  },
  {
   "cell_type": "code",
   "execution_count": 61,
   "metadata": {},
   "outputs": [],
   "source": [
    "# plot_neighbors(XX, indices2)"
   ]
  },
  {
   "cell_type": "code",
   "execution_count": 62,
   "metadata": {},
   "outputs": [],
   "source": [
    "# plot_neighbors(XX, indices)"
   ]
  },
  {
   "cell_type": "markdown",
   "metadata": {},
   "source": [
    "We will plot combined embedding for values of $\\alpha = 0,\\ 0.25,\\ 0.5,\\ 0.75,\\ 1$. We color $k$ nearest neighbors based on the simple document embedding with red and $k$ nearest neighbors based on the descriptor embedding with yellow."
   ]
  },
  {
   "cell_type": "code",
   "execution_count": 63,
   "metadata": {},
   "outputs": [],
   "source": [
    "def plotAlphaBeta(emb1, emb2, alpha, indices1=indices, indices2=indices2):\n",
    "    emb = combemb(emb1, emb2, alpha)\n",
    "    temp1 = emb[indices, :]\n",
    "    temp2 = emb[indices2, :]\n",
    "    \n",
    "    fig, ax = plt.subplots(figsize=(4, 4), dpi=160, facecolor='w')\n",
    "    x, y = emb.transpose()[0], emb.transpose()[1]\n",
    "    ax.scatter(x,  y,  2, marker='x', c='b') \n",
    "    \n",
    "    x1, y1 = temp1.transpose()[0], temp1.transpose()[1]\n",
    "    ax.scatter(x1,  y1,  5, marker='o', c='r')\n",
    "    \n",
    "    x2, y2 = temp2.transpose()[0], temp2.transpose()[1]\n",
    "    ax.scatter(x2,  y2,  5, marker='o', c='y')\n",
    "    \n",
    "    plt.axis('off')\n",
    "    plt.show()\n",
    "    return None"
   ]
  },
  {
   "cell_type": "code",
   "execution_count": 64,
   "metadata": {},
   "outputs": [],
   "source": [
    "# plotAlphaBeta(XX, descriptors_embedding_transformed, 0)"
   ]
  },
  {
   "cell_type": "code",
   "execution_count": 65,
   "metadata": {},
   "outputs": [],
   "source": [
    "# plotAlphaBeta(XX, descriptors_embedding_transformed, 0.25)"
   ]
  },
  {
   "cell_type": "code",
   "execution_count": 66,
   "metadata": {},
   "outputs": [],
   "source": [
    "# plotAlphaBeta(XX, descriptors_embedding_transformed, 0.5)"
   ]
  },
  {
   "cell_type": "code",
   "execution_count": 67,
   "metadata": {},
   "outputs": [],
   "source": [
    "# plotAlphaBeta(XX, descriptors_embedding_transformed, 0.75)"
   ]
  },
  {
   "cell_type": "code",
   "execution_count": 68,
   "metadata": {},
   "outputs": [],
   "source": [
    "# plotAlphaBeta(XX, descriptors_embedding_transformed, 1)"
   ]
  },
  {
   "cell_type": "markdown",
   "metadata": {},
   "source": [
    "Upper plot shows combined embedding when $\\alpha = 1$, which is the same as simple document embedding. We notice that some of the documents that are close when embedded with descriptor embedding (yellow dots), are quite far when embedded with simple document embedding.\n",
    "\n",
    "Let's find the most distant one."
   ]
  },
  {
   "cell_type": "markdown",
   "metadata": {},
   "source": [
    "It doesn't seem like it's quite that different. This in combination with plots of combined embeddings for different $\\alpha$ suggests that simple document embedding doesn't represent \"closeness\" of data quite as well as descriptor embedding. \n",
    "\n",
    "Let's test our hypothesis on more exaples."
   ]
  },
  {
   "cell_type": "markdown",
   "metadata": {},
   "source": [
    "### Word Movers Distance\n",
    "\n",
    "In this section we will try to introduce a promising metric for measuring document similarity: Word Movers Distance. It is implemented in gensim library as a function \"wmdistance\".\n",
    "\n",
    "First let's pick two documents and compute WMD between them."
   ]
  },
  {
   "cell_type": "code",
   "execution_count": 69,
   "metadata": {},
   "outputs": [],
   "source": [
    "index1 = 15\n",
    "index2 = 3996\n",
    "doc1 = documents[index1]['document_text']\n",
    "doc2 = documents[index2]['document_text']"
   ]
  },
  {
   "cell_type": "code",
   "execution_count": 70,
   "metadata": {},
   "outputs": [
    {
     "data": {
      "text/plain": [
       "0.09852209221710648"
      ]
     },
     "execution_count": 70,
     "metadata": {},
     "output_type": "execute_result"
    }
   ],
   "source": [
    "wiki_en_model.wmdistance(doc1, doc2)"
   ]
  },
  {
   "cell_type": "markdown",
   "metadata": {},
   "source": [
    "Since WMD is very expensive to compute, we will use it on reduced set of closest neighbors. Let's focuse on 'doc1', find a larger set of neighbouring documents and find the k closest neighbors according to WMD."
   ]
  },
  {
   "cell_type": "code",
   "execution_count": 71,
   "metadata": {},
   "outputs": [],
   "source": [
    "k = 100\n",
    "DET = descriptors_embedding_transformed\n",
    "candidates_ids = kNN(DET[index1], k, DET, euclid_similarity)"
   ]
  },
  {
   "cell_type": "code",
   "execution_count": 72,
   "metadata": {},
   "outputs": [],
   "source": [
    "texts = [documents_stripped[i] for i in candidates_ids]\n",
    "#n = 0\n",
    "#for i in candidates_ids:\n",
    "#    texts[n] = documents[i]['document_text']\n",
    "#    n += 1\n",
    "k = 10\n",
    "WMDids = kNN(texts[0], k, texts, wiki_en_model.wmdistance)"
   ]
  },
  {
   "cell_type": "code",
   "execution_count": 73,
   "metadata": {},
   "outputs": [
    {
     "name": "stdout",
     "output_type": "stream",
     "text": [
      "[0, 8, 6, 52, 2, 73, 97, 24, 10, 48]\n"
     ]
    }
   ],
   "source": [
    "print(WMDids)"
   ]
  },
  {
   "cell_type": "code",
   "execution_count": 74,
   "metadata": {},
   "outputs": [
    {
     "name": "stdout",
     "output_type": "stream",
     "text": [
      "[15, 216, 127, 624, 1061, 561, 287, 2983, 926, 551]\n"
     ]
    }
   ],
   "source": [
    "print([candidates_ids[i] for i in WMDids])"
   ]
  },
  {
   "cell_type": "code",
   "execution_count": 75,
   "metadata": {},
   "outputs": [],
   "source": [
    "# for i in WMDids[:5]:\n",
    "#     print(documents[candidates_ids[i]]['document_title'])\n",
    "#     print(' ')"
   ]
  },
  {
   "cell_type": "markdown",
   "metadata": {},
   "source": [
    "Because WMD distance is very expensive, we want to check, if it makes any sense to even use it. We can choose different embeddings in which to find most similar documents and limit our search to those. For every embedding we find 50, 100, 500 and 1000 nearest neighbors to the chosen document and run our kNN function again for k=10, but this time we use WMD distance.\n",
    "\n",
    "We plot the results. The ten nearest neigbors are colored with different colors, depending on how many documents we limited our search on. Documents found after limiting ourselves to 50 documents are colored red, 100 green, 500 yellow and 1000 violet."
   ]
  },
  {
   "cell_type": "code",
   "execution_count": 76,
   "metadata": {},
   "outputs": [],
   "source": [
    "def compare_results_WMD(id1=index1, emb=XX):\n",
    "    fig, ax = plt.subplots(figsize=(4, 4), dpi=160, facecolor='w')\n",
    "    x, y = emb.transpose()[0], emb.transpose()[1]\n",
    "    ax.scatter(x,  y,  2, marker='x', c='b') \n",
    "    colors = {50: 'r', 100: 'g', 500: 'y', 1000: 'm'}\n",
    "    \n",
    "    for k in [50, 100, 500, 1000]:\n",
    "        candidates_ids = kNN(emb[id1], k, emb, euclid_similarity)\n",
    "        texts = [documents_stripped[i] for i in candidates_ids]\n",
    "        WMDids = kNN(texts[0], 10, texts, wiki_en_model.wmdistance)\n",
    "        WMDids = [candidates_ids[i] for i in WMDids]\n",
    "        temp = emb[WMDids, :]\n",
    "        x, y = temp.transpose()[0], temp.transpose()[1]\n",
    "        ax.scatter(x, y, 10, marker='o', c=colors[k])\n",
    "        \n",
    "    plt.axis('off')\n",
    "    plt.show()\n",
    "    \n",
    "    return None"
   ]
  },
  {
   "cell_type": "markdown",
   "metadata": {},
   "source": [
    "Using document embedding by average."
   ]
  },
  {
   "cell_type": "code",
   "execution_count": 77,
   "metadata": {},
   "outputs": [],
   "source": [
    "# compare_results_WMD()"
   ]
  },
  {
   "cell_type": "markdown",
   "metadata": {},
   "source": [
    "Using document embedding by descriptors."
   ]
  },
  {
   "cell_type": "code",
   "execution_count": 78,
   "metadata": {},
   "outputs": [],
   "source": [
    "# compare_results_WMD(emb=descriptors_embedding_transformed)"
   ]
  },
  {
   "cell_type": "markdown",
   "metadata": {},
   "source": [
    "Using combined document embedding where each embedding contributes $\\alpha = 0.5$."
   ]
  },
  {
   "cell_type": "code",
   "execution_count": 79,
   "metadata": {},
   "outputs": [],
   "source": [
    "# compare_results_WMD(emb=combemb(docembeddings_transformed[:4000,:], descriptors_embedding_transformed, 0.5))"
   ]
  },
  {
   "cell_type": "markdown",
   "metadata": {},
   "source": [
    "We see that in the case of combined embedding results of our search for nearest documents differ the least depending on the limit of documents we set. This suggests that using combined embedding might be profitable and might produce the best results."
   ]
  },
  {
   "cell_type": "markdown",
   "metadata": {},
   "source": [
    "Let's test our hypothesis on other examples."
   ]
  },
  {
   "cell_type": "code",
   "execution_count": 80,
   "metadata": {},
   "outputs": [],
   "source": [
    "from random import randint\n",
    "id1 = randint(0, 4000)"
   ]
  },
  {
   "cell_type": "code",
   "execution_count": 81,
   "metadata": {},
   "outputs": [],
   "source": [
    "# compare_results_WMD(id1=id1)"
   ]
  },
  {
   "cell_type": "code",
   "execution_count": 82,
   "metadata": {},
   "outputs": [],
   "source": [
    "# compare_results_WMD(id1=id1,emb=descriptors_embedding_transformed)"
   ]
  },
  {
   "cell_type": "code",
   "execution_count": 83,
   "metadata": {},
   "outputs": [],
   "source": [
    "# compare_results_WMD(id1=id1, emb=combemb(docembeddings_transformed[:4000,:], descriptors_embedding_transformed, 0.5))"
   ]
  },
  {
   "cell_type": "markdown",
   "metadata": {},
   "source": [
    "## Training word embedding model\n",
    "\n",
    "The library ' gensim' enables us to train our own word-embedding model based on pretrained FastText model. We use all the text from all our documents and use the model to perform analysis of documents and their similarity.\n",
    "\n",
    "We trained our model seperately in order to avoid running expensive code with every run of the notebook. The training is done in the following way:\n",
    "\n",
    "```python\n",
    "from gensim.models import FastText\n",
    "\n",
    "trained_model = FastText(size=4, window=3, min_count=1)\n",
    "trained_model.build_vocab(sentences=documents_stripped)\n",
    "trained_model.train(sentences=documents_stripped, total_examples=len(documents_stripped), epochs=10)\n",
    "```\n",
    "\n",
    "The model is saved and available in this GitHub repository at [this link](https://github.com/ZivaUrbancic/enviroLENS/tree/master/word-embeddings/data/fasttext)."
   ]
  },
  {
   "cell_type": "code",
   "execution_count": 84,
   "metadata": {},
   "outputs": [],
   "source": [
    "# from gensim.models import FastText\n",
    "# path_tm = '../data/fasttext/trained_model.vec'\n",
    "# trained_model = FastText.load(path_tm)"
   ]
  },
  {
   "cell_type": "code",
   "execution_count": 85,
   "metadata": {},
   "outputs": [],
   "source": [
    "# trained_model.wv.vector_size"
   ]
  },
  {
   "cell_type": "code",
   "execution_count": 86,
   "metadata": {},
   "outputs": [],
   "source": [
    "# trained_model.wv.vectors.shape"
   ]
  },
  {
   "cell_type": "code",
   "execution_count": 87,
   "metadata": {},
   "outputs": [],
   "source": [
    "# wiki_en_model.wv.vectors.shape"
   ]
  },
  {
   "cell_type": "code",
   "execution_count": 88,
   "metadata": {},
   "outputs": [],
   "source": [
    "# limit = 15000\n",
    "# # limit = 50\n",
    "# we_trained = dataset_embedding(documents[:limit], stop_words, trained_model.wv, simple_docemb)"
   ]
  },
  {
   "cell_type": "code",
   "execution_count": 89,
   "metadata": {},
   "outputs": [],
   "source": [
    "# trained_docemb_transformed = TSNE(n_components=2, random_state=rand_seed).fit_transform(we_trained[:4000,:])"
   ]
  },
  {
   "cell_type": "code",
   "execution_count": 90,
   "metadata": {},
   "outputs": [],
   "source": [
    "# # get the (x, y) coordinates\n",
    "# x, y = trained_docemb_transformed.transpose()[0], trained_docemb_transformed.transpose()[1]\n",
    "# # draw the points into the landscape\n",
    "# fig, ax = plt.subplots(figsize=(4, 4), dpi=160, facecolor='w')\n",
    "# ax.scatter(x,  y,  2, marker='x', c='b')\n",
    "# # show the image\n",
    "# plt.axis('off')\n",
    "# plt.show()"
   ]
  },
  {
   "cell_type": "code",
   "execution_count": 91,
   "metadata": {},
   "outputs": [],
   "source": [
    "# k = 10\n",
    "# tr_indices = kNN(trained_docemb_transformed[doc_index], k, trained_docemb_transformed, euclid_similarity)"
   ]
  },
  {
   "cell_type": "code",
   "execution_count": 92,
   "metadata": {},
   "outputs": [],
   "source": [
    "# plot_neighbors(trained_docemb_transformed, tr_indices)"
   ]
  },
  {
   "cell_type": "markdown",
   "metadata": {},
   "source": [
    "Let's plot the nearest neighbors we got from embedding the documents as average of Word2Vec vectors of words and then do the same with the nearest neighbors in embedding based on embedding of document descriptors."
   ]
  },
  {
   "cell_type": "code",
   "execution_count": 93,
   "metadata": {},
   "outputs": [],
   "source": [
    "# plot_neighbors(trained_docemb_transformed, indices)"
   ]
  },
  {
   "cell_type": "code",
   "execution_count": 94,
   "metadata": {},
   "outputs": [],
   "source": [
    "# plot_neighbors(trained_docemb_transformed, indices2)"
   ]
  },
  {
   "cell_type": "code",
   "execution_count": 95,
   "metadata": {},
   "outputs": [],
   "source": [
    "# compare_results_WMD(emb=trained_docemb_transformed, metric=trained_model.wmdistance)"
   ]
  },
  {
   "cell_type": "markdown",
   "metadata": {},
   "source": [
    "We managed to get different lists of k nearest neighbors for different embeddings. A measure of how well they perform might be Word Movers Distance. Let's compute it for all elements in those lists."
   ]
  },
  {
   "cell_type": "code",
   "execution_count": 96,
   "metadata": {},
   "outputs": [],
   "source": [
    "texts = [documents_stripped[i] for i in indices]\n",
    "dist1 = [wiki_en_model.wmdistance(t, texts[0]) for t in texts]\n",
    "av1 = sum(dist1)/len(dist1)"
   ]
  },
  {
   "cell_type": "code",
   "execution_count": 97,
   "metadata": {},
   "outputs": [],
   "source": [
    "texts = [documents_stripped[i] for i in indices2]\n",
    "dist2 = [wiki_en_model.wmdistance(t, texts[0]) for t in texts]\n",
    "av2 = sum(dist2)/len(dist2)"
   ]
  },
  {
   "cell_type": "code",
   "execution_count": 98,
   "metadata": {},
   "outputs": [],
   "source": [
    "texts = [documents_stripped[i] for i in law_indices]\n",
    "dist3 = [wiki_en_model.wmdistance(t, texts[0]) for t in texts]\n",
    "av3 = sum(dist3)/len(dist3)"
   ]
  },
  {
   "cell_type": "code",
   "execution_count": 99,
   "metadata": {},
   "outputs": [
    {
     "name": "stdout",
     "output_type": "stream",
     "text": [
      "Word Movers Distances of kNN for simple document embedding: ['0.00', '0.03', '0.03', '0.05', '0.04', '0.07', '0.06', '0.06', '0.06', '0.08', '0.06', '0.06', '0.06', '0.06', '0.07', '0.06', '0.08', '0.06', '0.08', '0.06']\n",
      "Average: 0.06\n",
      " \n",
      "Word Movers Distances of kNN for descriptor embedding: ['0.00', '0.11', '0.03', '0.11', '0.09', '0.06', '0.10', '0.05', '0.11', '0.12', '0.10', '0.10', '0.09', '0.12', '0.06', '0.07', '0.10', '0.10', '0.06', '0.10']\n",
      "Average: 0.08\n",
      " \n",
      "Word Movers Distances of kNN for document embedding using Law2Vec: ['0.00', '0.03', '0.05', '0.04', '0.06', '0.05', '0.05', '0.05', '0.06', '0.06']\n",
      "Average: 0.05\n"
     ]
    }
   ],
   "source": [
    "print(\"Word Movers Distances of kNN for simple document embedding: {}\".format([\"%.2f\"%i for i in dist1]))\n",
    "print(\"Average: {}\".format(\"%.2f\" % av1))\n",
    "print(\" \")\n",
    "print(\"Word Movers Distances of kNN for descriptor embedding: {}\".format([\"%.2f\"%i for i in dist2]))\n",
    "print(\"Average: {}\".format(\"%.2f\" % av2))\n",
    "print(\" \")\n",
    "print(\"Word Movers Distances of kNN for document embedding using Law2Vec: {}\".format([\"%.2f\"%i for i in dist3]))\n",
    "print(\"Average: {}\".format(\"%.2f\" % av3))"
   ]
  },
  {
   "cell_type": "code",
   "execution_count": 100,
   "metadata": {},
   "outputs": [],
   "source": [
    "def compare_distances(document_id, k):\n",
    "    indices =  kNN(XX[document_id], k, XX, euclid_similarity)\n",
    "    indices2 = kNN(descriptors_embedding_transformed[document_id], k, \n",
    "                   descriptors_embedding_transformed, euclid_similarity)\n",
    "    indices3 = kNN(law_doc_vectors_transformed[document_id], k, law_doc_vectors_transformed, euclid_similarity)\n",
    "    I = [indices, indices2, indices3]\n",
    "    av = [0, 0, 0]\n",
    "    for i in range(3):\n",
    "        texts = [documents_stripped[j] for j in I[i]]\n",
    "        dist = [wiki_en_model.wmdistance(t, texts[0]) for t in texts]\n",
    "        # dist = [euclid_similarity(document_id, j) for j in I[i]]\n",
    "        av[i] = sum(dist)/len(dist)\n",
    "    return av"
   ]
  },
  {
   "cell_type": "code",
   "execution_count": 101,
   "metadata": {},
   "outputs": [
    {
     "name": "stdout",
     "output_type": "stream",
     "text": [
      "[0.04830910552786917, 0.06522196163691979, 0.04783775226902842]\n"
     ]
    }
   ],
   "source": [
    "averages = [0, 0, 0]\n",
    "for i in range(500):\n",
    "    c = compare_distances(i, 10)\n",
    "    averages = [averages[j] + c[j] for j in range(3)]\n",
    "print([i/500 for i in averages])"
   ]
  },
  {
   "cell_type": "markdown",
   "metadata": {},
   "source": [
    "# Subtraction of Projection on First Singular Vector"
   ]
  },
  {
   "cell_type": "code",
   "execution_count": 102,
   "metadata": {},
   "outputs": [],
   "source": [
    "u, s, vh = np.linalg.svd(we, full_matrices=True)"
   ]
  },
  {
   "cell_type": "code",
   "execution_count": 209,
   "metadata": {},
   "outputs": [],
   "source": [
    "first_singular_vector = vh[0, :]\n",
    "subtracted_emb = np.zeros(we.shape)"
   ]
  },
  {
   "cell_type": "code",
   "execution_count": 210,
   "metadata": {},
   "outputs": [],
   "source": [
    "for i in range(len(we)):\n",
    "    temp = np.matmul(we[i,:], first_singular_vector.transpose())\n",
    "    subtracted_emb[i, :] = we[i, :] - temp*first_singular_vector"
   ]
  },
  {
   "cell_type": "code",
   "execution_count": 211,
   "metadata": {},
   "outputs": [],
   "source": [
    "i = 4\n",
    "temp = np.matmul(we[i,:], first_singular_vector.transpose())\n",
    "subtracted_emb[i, :] = we[i, :] - temp*first_singular_vector"
   ]
  },
  {
   "cell_type": "code",
   "execution_count": 212,
   "metadata": {},
   "outputs": [
    {
     "data": {
      "text/plain": [
       "array([False, False, False, False, False, False, False, False, False,\n",
       "       False, False, False, False, False, False, False, False, False,\n",
       "       False, False, False, False, False, False, False, False, False,\n",
       "       False, False, False, False, False, False, False, False, False,\n",
       "       False, False, False, False, False, False, False, False, False,\n",
       "       False, False, False, False, False, False, False, False, False,\n",
       "       False, False, False, False, False, False, False, False, False,\n",
       "       False, False, False, False, False, False, False, False, False,\n",
       "       False, False, False, False, False, False, False, False, False,\n",
       "       False, False, False, False, False, False, False, False, False,\n",
       "       False, False, False, False, False, False, False, False, False,\n",
       "       False, False, False, False, False, False, False, False, False,\n",
       "       False, False, False, False, False, False, False, False, False,\n",
       "       False, False, False, False, False, False, False, False, False,\n",
       "       False, False, False, False, False, False, False, False, False,\n",
       "       False, False, False, False, False, False, False, False, False,\n",
       "       False, False, False, False, False, False, False, False, False,\n",
       "       False, False, False, False, False, False, False, False, False,\n",
       "       False, False, False, False, False, False, False, False, False,\n",
       "       False, False, False, False, False, False, False, False, False,\n",
       "       False, False, False, False, False, False, False, False, False,\n",
       "       False, False, False, False, False, False, False, False, False,\n",
       "       False, False, False, False, False, False, False, False, False,\n",
       "       False, False, False, False, False, False, False, False, False,\n",
       "       False, False, False, False, False, False, False, False, False,\n",
       "       False, False, False, False, False, False, False, False, False,\n",
       "       False, False, False, False, False, False, False, False, False,\n",
       "       False, False, False, False, False, False, False, False, False,\n",
       "       False, False, False, False, False, False, False, False, False,\n",
       "       False, False, False, False, False, False, False, False, False,\n",
       "       False, False, False, False, False, False, False, False, False,\n",
       "       False, False, False, False, False, False, False, False, False,\n",
       "       False, False, False, False, False, False, False, False, False,\n",
       "       False, False, False])"
      ]
     },
     "execution_count": 212,
     "metadata": {},
     "output_type": "execute_result"
    }
   ],
   "source": [
    "(we[i, :] - temp*first_singular_vector) == we[i, :]"
   ]
  },
  {
   "cell_type": "code",
   "execution_count": 213,
   "metadata": {},
   "outputs": [],
   "source": [
    "subtracted_emb_transformed = TSNE(n_components=2, random_state=rand_seed).fit_transform(subtracted_emb)"
   ]
  },
  {
   "cell_type": "code",
   "execution_count": 214,
   "metadata": {},
   "outputs": [],
   "source": [
    "k = 20\n",
    "subtracted_indices = kNN(subtracted_emb[doc_index, :], k, subtracted_emb, similarity=euclid_similarity)"
   ]
  },
  {
   "cell_type": "code",
   "execution_count": 215,
   "metadata": {},
   "outputs": [
    {
     "data": {
      "image/png": "[encoded data removed]",
      "text/plain": [
       "<Figure size 640x640 with 1 Axes>"
      ]
     },
     "metadata": {},
     "output_type": "display_data"
    }
   ],
   "source": [
    "plot_neighbors(subtracted_emb_transformed, indices[:20])"
   ]
  },
  {
   "cell_type": "code",
   "execution_count": 216,
   "metadata": {},
   "outputs": [
    {
     "data": {
      "image/png": "[encoded data removed]",
      "text/plain": [
       "<Figure size 640x640 with 1 Axes>"
      ]
     },
     "metadata": {},
     "output_type": "display_data"
    }
   ],
   "source": [
    "plot_neighbors(subtracted_emb_transformed, subtracted_indices)"
   ]
  },
  {
   "cell_type": "code",
   "execution_count": 226,
   "metadata": {
    "collapsed": true
   },
   "outputs": [
    {
     "data": {
      "text/plain": [
       "[0,\n",
       " 1,\n",
       " 2,\n",
       " 3,\n",
       " 4,\n",
       " 5,\n",
       " 6,\n",
       " 7,\n",
       " 8,\n",
       " 9,\n",
       " 10,\n",
       " 11,\n",
       " 12,\n",
       " 13,\n",
       " 14,\n",
       " 15,\n",
       " 16,\n",
       " 17,\n",
       " 18,\n",
       " 19,\n",
       " 20,\n",
       " 21,\n",
       " 22,\n",
       " 23,\n",
       " 24,\n",
       " 25,\n",
       " 26,\n",
       " 27,\n",
       " 28,\n",
       " 29,\n",
       " 30,\n",
       " 31,\n",
       " 32,\n",
       " 33,\n",
       " 34,\n",
       " 35,\n",
       " 36,\n",
       " 37,\n",
       " 38,\n",
       " 39,\n",
       " 40,\n",
       " 41,\n",
       " 42,\n",
       " 43,\n",
       " 44,\n",
       " 45,\n",
       " 46,\n",
       " 47,\n",
       " 48,\n",
       " 49,\n",
       " 50,\n",
       " 51,\n",
       " 52,\n",
       " 53,\n",
       " 54,\n",
       " 55,\n",
       " 56,\n",
       " 57,\n",
       " 58,\n",
       " 59,\n",
       " 60,\n",
       " 61,\n",
       " 62,\n",
       " 64,\n",
       " 65,\n",
       " 66,\n",
       " 67,\n",
       " 68,\n",
       " 69,\n",
       " 70,\n",
       " 71,\n",
       " 72,\n",
       " 73,\n",
       " 74,\n",
       " 75,\n",
       " 76,\n",
       " 77,\n",
       " 78,\n",
       " 79,\n",
       " 80,\n",
       " 81,\n",
       " 82,\n",
       " 83,\n",
       " 84,\n",
       " 85,\n",
       " 86,\n",
       " 87,\n",
       " 88,\n",
       " 89,\n",
       " 90,\n",
       " 91,\n",
       " 92,\n",
       " 93,\n",
       " 94,\n",
       " 95,\n",
       " 96,\n",
       " 97,\n",
       " 98,\n",
       " 99,\n",
       " 100,\n",
       " 101,\n",
       " 102,\n",
       " 103,\n",
       " 104,\n",
       " 105,\n",
       " 106,\n",
       " 107,\n",
       " 108,\n",
       " 109,\n",
       " 110,\n",
       " 111,\n",
       " 112,\n",
       " 113,\n",
       " 114,\n",
       " 115,\n",
       " 116,\n",
       " 117,\n",
       " 118,\n",
       " 119,\n",
       " 120,\n",
       " 121,\n",
       " 122,\n",
       " 123,\n",
       " 124,\n",
       " 125,\n",
       " 126,\n",
       " 127,\n",
       " 128,\n",
       " 129,\n",
       " 130,\n",
       " 131,\n",
       " 132,\n",
       " 133,\n",
       " 134,\n",
       " 135,\n",
       " 136,\n",
       " 137,\n",
       " 138,\n",
       " 139,\n",
       " 140,\n",
       " 141,\n",
       " 142,\n",
       " 143,\n",
       " 144,\n",
       " 145,\n",
       " 146,\n",
       " 147,\n",
       " 148,\n",
       " 149,\n",
       " 150,\n",
       " 151,\n",
       " 152,\n",
       " 153,\n",
       " 154,\n",
       " 155,\n",
       " 156,\n",
       " 157,\n",
       " 158,\n",
       " 159,\n",
       " 160,\n",
       " 161,\n",
       " 162,\n",
       " 163,\n",
       " 164,\n",
       " 165,\n",
       " 166,\n",
       " 167,\n",
       " 168,\n",
       " 169,\n",
       " 170,\n",
       " 171,\n",
       " 172,\n",
       " 173,\n",
       " 174,\n",
       " 175,\n",
       " 176,\n",
       " 177,\n",
       " 178,\n",
       " 179,\n",
       " 180,\n",
       " 181,\n",
       " 182,\n",
       " 183,\n",
       " 184,\n",
       " 185,\n",
       " 186,\n",
       " 187,\n",
       " 188,\n",
       " 189,\n",
       " 190,\n",
       " 191,\n",
       " 192,\n",
       " 193,\n",
       " 194,\n",
       " 195,\n",
       " 196,\n",
       " 197,\n",
       " 198,\n",
       " 199,\n",
       " 200,\n",
       " 201,\n",
       " 202,\n",
       " 203,\n",
       " 204,\n",
       " 205,\n",
       " 206,\n",
       " 207,\n",
       " 208,\n",
       " 209,\n",
       " 210,\n",
       " 211,\n",
       " 212,\n",
       " 213,\n",
       " 214,\n",
       " 215,\n",
       " 216,\n",
       " 217,\n",
       " 218,\n",
       " 219,\n",
       " 220,\n",
       " 221,\n",
       " 222,\n",
       " 223,\n",
       " 224,\n",
       " 225,\n",
       " 226,\n",
       " 227,\n",
       " 228,\n",
       " 229,\n",
       " 230,\n",
       " 231,\n",
       " 232,\n",
       " 233,\n",
       " 234,\n",
       " 235,\n",
       " 236,\n",
       " 237,\n",
       " 238,\n",
       " 239,\n",
       " 240,\n",
       " 241,\n",
       " 242,\n",
       " 243,\n",
       " 244,\n",
       " 245,\n",
       " 246,\n",
       " 247,\n",
       " 248,\n",
       " 249,\n",
       " 250,\n",
       " 251,\n",
       " 252,\n",
       " 253,\n",
       " 254,\n",
       " 255,\n",
       " 256,\n",
       " 257,\n",
       " 258,\n",
       " 259,\n",
       " 260,\n",
       " 261,\n",
       " 262,\n",
       " 263,\n",
       " 264,\n",
       " 265,\n",
       " 266,\n",
       " 267,\n",
       " 268,\n",
       " 269,\n",
       " 270,\n",
       " 271,\n",
       " 272,\n",
       " 273,\n",
       " 274,\n",
       " 275,\n",
       " 276,\n",
       " 277,\n",
       " 278,\n",
       " 279,\n",
       " 280,\n",
       " 281,\n",
       " 282,\n",
       " 283,\n",
       " 284,\n",
       " 285,\n",
       " 286,\n",
       " 287,\n",
       " 288,\n",
       " 289,\n",
       " 290,\n",
       " 291,\n",
       " 292,\n",
       " 293,\n",
       " 294,\n",
       " 295,\n",
       " 296,\n",
       " 297,\n",
       " 298,\n",
       " 299,\n",
       " 300,\n",
       " 301,\n",
       " 302,\n",
       " 303,\n",
       " 304,\n",
       " 305,\n",
       " 306,\n",
       " 307,\n",
       " 308,\n",
       " 309,\n",
       " 310,\n",
       " 311,\n",
       " 312,\n",
       " 313,\n",
       " 314,\n",
       " 315,\n",
       " 316,\n",
       " 317,\n",
       " 318,\n",
       " 319,\n",
       " 320,\n",
       " 321,\n",
       " 322,\n",
       " 323,\n",
       " 324,\n",
       " 326,\n",
       " 327,\n",
       " 328,\n",
       " 329,\n",
       " 330,\n",
       " 331,\n",
       " 332,\n",
       " 333,\n",
       " 334,\n",
       " 335,\n",
       " 336,\n",
       " 337,\n",
       " 338,\n",
       " 339,\n",
       " 340,\n",
       " 341,\n",
       " 342,\n",
       " 343,\n",
       " 344,\n",
       " 345,\n",
       " 346,\n",
       " 347,\n",
       " 348,\n",
       " 349,\n",
       " 350,\n",
       " 351,\n",
       " 352,\n",
       " 353,\n",
       " 354,\n",
       " 355,\n",
       " 356,\n",
       " 357,\n",
       " 358,\n",
       " 359,\n",
       " 360,\n",
       " 361,\n",
       " 362,\n",
       " 363,\n",
       " 364,\n",
       " 365,\n",
       " 366,\n",
       " 367,\n",
       " 368,\n",
       " 369,\n",
       " 370,\n",
       " 371,\n",
       " 372,\n",
       " 373,\n",
       " 374,\n",
       " 375,\n",
       " 376,\n",
       " 377,\n",
       " 378,\n",
       " 379,\n",
       " 380,\n",
       " 381,\n",
       " 382,\n",
       " 383,\n",
       " 384,\n",
       " 385,\n",
       " 386,\n",
       " 387,\n",
       " 388,\n",
       " 389,\n",
       " 390,\n",
       " 391,\n",
       " 392,\n",
       " 393,\n",
       " 394,\n",
       " 395,\n",
       " 396,\n",
       " 397,\n",
       " 399]"
      ]
     },
     "execution_count": 226,
     "metadata": {},
     "output_type": "execute_result"
    }
   ],
   "source": [
    "k = 30\n",
    "l = []\n",
    "for i in range(400):\n",
    "    indices1 = kNN(we[i], k, we, euclid_similarity)\n",
    "    indices2 = kNN(subtracted_emb[i], k, subtracted_emb, euclid_similarity)\n",
    "    if indices1 == indices2:\n",
    "        l.append(i)\n",
    "l"
   ]
  },
  {
   "cell_type": "code",
   "execution_count": null,
   "metadata": {},
   "outputs": [],
   "source": []
  }
 ],
 "metadata": {
  "kernelspec": {
   "display_name": "Python 3",
   "language": "python",
   "name": "python3"
  },
  "language_info": {
   "codemirror_mode": {
    "name": "ipython",
    "version": 3
   },
   "file_extension": ".py",
   "mimetype": "text/x-python",
   "name": "python",
   "nbconvert_exporter": "python",
   "pygments_lexer": "ipython3",
   "version": "3.7.3"
  }
 },
 "nbformat": 4,
 "nbformat_minor": 2
}
